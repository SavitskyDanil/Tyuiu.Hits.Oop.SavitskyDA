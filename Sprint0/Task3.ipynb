{
 "cells": [
  {
   "cell_type": "markdown",
   "metadata": {},
   "source": [
    "<h1 style=\"color:DodgerBlue\">Индивидальный проект</h1>"
   ]
  },
  {
   "cell_type": "markdown",
   "metadata": {},
   "source": [
    "<h2 style=\"color:DodgerBlue\">Название проекта:</h2>\n",
    "\n",
    "----\n",
    "\n",
    "### Вариант задания 15\n"
   ]
  },
  {
   "cell_type": "markdown",
   "metadata": {},
   "source": [
    "<h2 style=\"color:DodgerBlue\">Описание проекта:</h2>\n",
    "\n",
    "----\n",
    "\n",
    "Создать базовый класс OrderLine в C#, который будет представлять информацию о\n",
    "строке заказа, содержащей детали одного товара в заказе. На основе этого класса\n",
    "разработать 2-3 производных класса, демонстрирующих принципы наследования и\n",
    "полиморфизма. В каждом из классов должны быть реализованы новые атрибуты и\n",
    "методы, а также переопределены некоторые методы базового класса для\n",
    "демонстрации полиморфизма.\n",
    "\n",
    "\n"
   ]
  },
  {
   "cell_type": "markdown",
   "metadata": {},
   "source": [
    "<h2 style=\"color:DodgerBlue\">Реализация:</h2>\n",
    "\n",
    "----"
   ]
  },
  {
   "cell_type": "code",
   "execution_count": 2,
   "metadata": {
    "dotnet_interactive": {
     "language": "csharp"
    },
    "polyglot_notebook": {
     "kernelName": "csharp"
    }
   },
   "outputs": [],
   "source": [
    "public class OrderLine\n",
    "{\n",
    "    public int ProductId { get; set; }\n",
    "    public string ProductName { get; set; }\n",
    "    public decimal Price { get; set; }\n",
    "\n",
    "    public OrderLine(int productId, string productName, decimal price)\n",
    "    {\n",
    "        ProductId = productId;\n",
    "        ProductName = productName;\n",
    "        Price = price;\n",
    "    }\n",
    "\n",
    "    public virtual decimal CalculateTotal()\n",
    "    {\n",
    "        return Price;\n",
    "    }\n",
    "\n",
    "    public virtual void UpdatePrice(decimal newPrice)\n",
    "    {\n",
    "        Price = newPrice;\n",
    "    }\n",
    "\n",
    "    public virtual string GetProductDetails()\n",
    "    {\n",
    "        return $\"ID: {ProductId}, Название: {ProductName}, Цена: {Price}\";\n",
    "    }\n",
    "}\n",
    "\n",
    "public class StandardLine : OrderLine\n",
    "{\n",
    "    public int Units { get; set; }\n",
    "\n",
    "    public StandardLine(int productId, string productName, decimal price, int units) : base(productId, productName, price)\n",
    "    {\n",
    "        Units = units;\n",
    "    }\n",
    "\n",
    "    public override decimal CalculateTotal()\n",
    "    {\n",
    "        return Price * Units;\n",
    "    }\n",
    "}\n",
    "\n",
    "public class SpecialLine : OrderLine\n",
    "{\n",
    "    public decimal Discount { get; set; }\n",
    "\n",
    "    public SpecialLine(int productId, string productName, decimal price, decimal discount) : base(productId, productName, price)\n",
    "    {\n",
    "        Discount = discount;\n",
    "    }\n",
    "\n",
    "    public override void UpdatePrice(decimal newPrice)\n",
    "    {\n",
    "        Price = newPrice - (newPrice * Discount);\n",
    "    }\n",
    "}\n",
    "\n",
    "public class FreeLine : OrderLine\n",
    "{\n",
    "    public decimal Prepayment { get; set; }\n",
    "\n",
    "    public FreeLine(int productId, string productName, decimal prepayment) : base(productId, productName, 0)\n",
    "    {\n",
    "        Prepayment = prepayment;\n",
    "    }\n",
    "\n",
    "    public override decimal CalculateTotal()\n",
    "    {\n",
    "        return Prepayment;\n",
    "    }\n",
    "}\n"
   ]
  }
 ],
 "metadata": {
  "kernelspec": {
   "display_name": ".NET (C#)",
   "language": "C#",
   "name": ".net-csharp"
  },
  "polyglot_notebook": {
   "kernelInfo": {
    "defaultKernelName": "csharp",
    "items": [
     {
      "aliases": [],
      "languageName": "csharp",
      "name": "csharp"
     }
    ]
   }
  }
 },
 "nbformat": 4,
 "nbformat_minor": 2
}
