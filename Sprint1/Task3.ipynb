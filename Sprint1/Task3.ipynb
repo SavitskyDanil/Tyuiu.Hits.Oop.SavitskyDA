{
 "cells": [
  {
   "cell_type": "markdown",
   "metadata": {},
   "source": [
    "<h1 style=\"color:DodgerBlue\">Индивидальный проект</h1>"
   ]
  },
  {
   "cell_type": "markdown",
   "metadata": {},
   "source": [
    "<h2 style=\"color:DodgerBlue\">Название проекта:</h2>\n",
    "\n",
    "----\n",
    "\n",
    "### Вариант задания \n"
   ]
  },
  {
   "cell_type": "markdown",
   "metadata": {},
   "source": [
    "<h2 style=\"color:DodgerBlue\">Описание проекта:</h2>\n",
    "\n",
    "----\n",
    "\n",
    "[ваш текст]\n",
    "\n",
    "#### Дополнительное задание\n",
    "Добавьте к сущестующим классам конструктора классов с использованием гетторов и сетторов и реализуйте взаимодействие объектов между собой"
   ]
  },
  {
   "cell_type": "markdown",
   "metadata": {},
   "source": [
    "<h2 style=\"color:DodgerBlue\">Реализация:</h2>\n",
    "\n",
    "----"
   ]
  },
  {
   "cell_type": "code",
   "execution_count": 1,
   "metadata": {
    "dotnet_interactive": {
     "language": "csharp"
    },
    "polyglot_notebook": {
     "kernelName": "csharp"
    }
   },
   "outputs": [
    {
     "name": "stdout",
     "output_type": "stream",
     "text": [
      "Молочные продукты:\n",
      "Общая стоимость: 500\n",
      "ID: 1, Название: Молоко 'Зеленый луг' 800мл, 5шт, Цена: 100\n",
      "\n",
      "Мясные продукты:\n",
      "Общая стоимость: 630.0\n",
      "ID: 2, Название: Отруб свиной тазобедренный без кости Ишимский охлажденный 1КГ со скидкой 10%, Цена: 630.0\n",
      "\n",
      "Предварительный платеж:\n",
      "Общая стоимость: 1130\n",
      "ID: 3, Название: Итог, Цена: 630\n"
     ]
    }
   ],
   "source": [
    "public class OrderLine\n",
    "{\n",
    "  public int ProductId { get; set; }\n",
    "  public string ProductName { get; set; }\n",
    "  public decimal Price { get; set; }\n",
    "\n",
    "  public OrderLine(int productId, string productName, decimal price)\n",
    "  {\n",
    "    ProductId = productId;\n",
    "    ProductName = productName;\n",
    "    Price = price;\n",
    "  }\n",
    "\n",
    "  public virtual decimal CalculateTotal()\n",
    "  {\n",
    "    return Price;\n",
    "  }\n",
    "\n",
    "  public virtual void UpdatePrice(decimal newPrice)\n",
    "  {\n",
    "    Price = newPrice;\n",
    "  }\n",
    "\n",
    "  public string GetProductDetails()\n",
    "  {\n",
    "    return $\"ID: {ProductId}, Название: {ProductName}, Цена: {Price}\";\n",
    "  }\n",
    "}\n",
    "\n",
    "public class StandardLine : OrderLine\n",
    "{\n",
    "  public int Units { get; set; }\n",
    "\n",
    "  public StandardLine(int productId, string productName, decimal price, int units) : base(productId, productName, price)\n",
    "  {\n",
    "    Units = units;\n",
    "  }\n",
    "\n",
    "  public override decimal CalculateTotal()\n",
    "  {\n",
    "    return Price * Units;\n",
    "  }\n",
    "}\n",
    "\n",
    "public class SpecialLine : OrderLine\n",
    "{\n",
    "  public decimal Discount { get; set; }\n",
    "\n",
    "  public SpecialLine(int productId, string productName, decimal price, decimal discount) : base(productId, productName, price)\n",
    "  {\n",
    "    Discount = discount;\n",
    "  }\n",
    "\n",
    "  public override void UpdatePrice(decimal newPrice)\n",
    "  {\n",
    "    base.UpdatePrice(newPrice);\n",
    "    Price = Price - (Price * Discount);\n",
    "  }\n",
    "}\n",
    "\n",
    "public class FreeLine : OrderLine\n",
    "{\n",
    "  public decimal Prepayment { get; set; }\n",
    "\n",
    "  public FreeLine(int productId, string productName, decimal price, decimal prepayment) : base(productId, productName, price)\n",
    "  {\n",
    "    Prepayment = prepayment;\n",
    "  }\n",
    "\n",
    "  public override decimal CalculateTotal()\n",
    "  {\n",
    "    return Price + Prepayment;\n",
    "  }\n",
    "}\n",
    "\n",
    "\n",
    "    OrderLine standardLine = new StandardLine(1, \"Молоко 'Зеленый луг' 800мл, 5шт\", 100, 5);\n",
    "    OrderLine specialLine = new SpecialLine(2, \"Отруб свиной тазобедренный без кости Ишимский охлажденный 1КГ со скидкой 10%\", 700, 0.1m);\n",
    "    OrderLine freeLine = new FreeLine(3, \"Итог\", 630, 500);\n",
    "\n",
    "    Console.WriteLine(\"Молочные продукты:\");\n",
    "    Console.WriteLine($\"Общая стоимость: {standardLine.CalculateTotal()}\");\n",
    "    Console.WriteLine(standardLine.GetProductDetails());\n",
    "\n",
    "    Console.WriteLine(\"\\nМясные продукты:\");\n",
    "    specialLine.UpdatePrice(700); \n",
    "    Console.WriteLine($\"Общая стоимость: {specialLine.CalculateTotal()}\");\n",
    "    Console.WriteLine(specialLine.GetProductDetails());\n",
    "\n",
    "    Console.WriteLine(\"\\nПредварительный платеж:\");\n",
    "    Console.WriteLine($\"Общая стоимость: {freeLine.CalculateTotal()}\");\n",
    "    Console.WriteLine(freeLine.GetProductDetails());\n",
    "\n"
   ]
  }
 ],
 "metadata": {
  "kernelspec": {
   "display_name": ".NET (C#)",
   "language": "C#",
   "name": ".net-csharp"
  },
  "polyglot_notebook": {
   "kernelInfo": {
    "defaultKernelName": "csharp",
    "items": [
     {
      "aliases": [],
      "languageName": "csharp",
      "name": "csharp"
     }
    ]
   }
  }
 },
 "nbformat": 4,
 "nbformat_minor": 2
}
